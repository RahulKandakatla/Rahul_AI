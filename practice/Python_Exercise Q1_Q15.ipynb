{
 "cells": [
  {
   "cell_type": "markdown",
   "metadata": {},
   "source": [
    "1.\tCreate a list of the first 10 positive integers. "
   ]
  },
  {
   "cell_type": "code",
   "execution_count": 1,
   "metadata": {},
   "outputs": [
    {
     "name": "stdout",
     "output_type": "stream",
     "text": [
      "[1, 2, 3, 4, 5, 6, 7, 8, 9, 10]\n"
     ]
    }
   ],
   "source": [
    "a=(list(range(1,11)))\n",
    "print(a)"
   ]
  },
  {
   "cell_type": "markdown",
   "metadata": {},
   "source": [
    "2.\tAppend 11 and 12 to the list, then insert 0 at the beginning"
   ]
  },
  {
   "cell_type": "code",
   "execution_count": 3,
   "metadata": {},
   "outputs": [
    {
     "name": "stdout",
     "output_type": "stream",
     "text": [
      "[0, 1, 2, 3, 4, 5, 6, 7, 8, 9, 11, 12]\n"
     ]
    }
   ],
   "source": [
    "a=[1,2,3,4,5,6,7,8,9]\n",
    "a.append(11)\n",
    "a.append(12)\n",
    "a.insert(0,0)\n",
    "print(a)\n"
   ]
  },
  {
   "cell_type": "markdown",
   "metadata": {},
   "source": [
    "3.\tRemove all even numbers from the list. "
   ]
  },
  {
   "cell_type": "code",
   "execution_count": 4,
   "metadata": {},
   "outputs": [
    {
     "name": "stdout",
     "output_type": "stream",
     "text": [
      "[1, 3, 5, 7, 9]\n"
     ]
    }
   ],
   "source": [
    "a=(list(range(1,11)))\n",
    "a=[i for i in a if i%2!=0]\n",
    "print(a)\n"
   ]
  },
  {
   "cell_type": "markdown",
   "metadata": {},
   "source": [
    "\n",
    "4.\tUse a list comprehension to create a list of the cubes of all numbers in the list. \n"
   ]
  },
  {
   "cell_type": "code",
   "execution_count": 5,
   "metadata": {},
   "outputs": [
    {
     "name": "stdout",
     "output_type": "stream",
     "text": [
      "[1, 8, 27, 64, 125, 216, 343, 512, 729, 1000]\n"
     ]
    }
   ],
   "source": [
    "a=list(range(1,11))\n",
    "a=[i**3 for i in a]\n",
    "print(a)"
   ]
  },
  {
   "cell_type": "markdown",
   "metadata": {},
   "source": [
    "5.\tCreate a nested list where each sublist contains integers from 1 to 5, repeated 3 times. "
   ]
  },
  {
   "cell_type": "code",
   "execution_count": 6,
   "metadata": {},
   "outputs": [
    {
     "name": "stdout",
     "output_type": "stream",
     "text": [
      "[[1, 2, 3, 4, 5], [1, 2, 3, 4, 5], [1, 2, 3, 4, 5]]\n"
     ]
    }
   ],
   "source": [
    "a=[]\n",
    "b=[1,2,3,4,5]\n",
    "a=[b]*3\n",
    "print(a)"
   ]
  },
  {
   "cell_type": "code",
   "execution_count": null,
   "metadata": {},
   "outputs": [],
   "source": [
    "6.\tUse slicing to extract every second element from a list of numbers ranging from 1 to 20. "
   ]
  },
  {
   "cell_type": "code",
   "execution_count": 13,
   "metadata": {},
   "outputs": [
    {
     "name": "stdout",
     "output_type": "stream",
     "text": [
      "[1, 3, 5, 7, 9, 11, 13, 15, 17, 19]\n"
     ]
    }
   ],
   "source": [
    "a=(list(range(1,20)))\n",
    "b=a[::2]\n",
    "print(b)"
   ]
  },
  {
   "cell_type": "markdown",
   "metadata": {},
   "source": [
    "7.\tWrite a function that takes a list and returns a new list with only unique elements. "
   ]
  },
  {
   "cell_type": "markdown",
   "metadata": {},
   "source": [
    "8.\tCreate a dictionary representing a credit union employee with keys name, age, and phone \n",
    "numbers (list of numbers). \n"
   ]
  },
  {
   "cell_type": "code",
   "execution_count": 16,
   "metadata": {},
   "outputs": [
    {
     "name": "stdout",
     "output_type": "stream",
     "text": [
      "{'name': 'ravi', 'age': 29, 'phone_number': 1234567890}\n"
     ]
    }
   ],
   "source": [
    "credit_union_employee={'name':'ravi','age':29,'phone_number':1234567890}\n",
    "print(credit_union_employee)"
   ]
  },
  {
   "cell_type": "markdown",
   "metadata": {},
   "source": [
    "9.\tAdd a new key address to the dictionary. "
   ]
  },
  {
   "cell_type": "code",
   "execution_count": 20,
   "metadata": {},
   "outputs": [
    {
     "name": "stdout",
     "output_type": "stream",
     "text": [
      "{'name': 'ravi', 'age': 29, 'city': 'madison'}\n"
     ]
    }
   ],
   "source": [
    "a={'name':'ravi','age':29}\n",
    "b={'city':'madison'}\n",
    "a.update(b)\n",
    "print(a)"
   ]
  },
  {
   "cell_type": "markdown",
   "metadata": {},
   "source": [
    "10.\tUpdate the member list to include two more old addresses. "
   ]
  },
  {
   "cell_type": "code",
   "execution_count": 24,
   "metadata": {},
   "outputs": [
    {
     "name": "stdout",
     "output_type": "stream",
     "text": [
      "{'name': 'ravi', 'age': 29, 'phone': 1234567890, 'city': 'madison', 'address': 'Ridgeland'}\n"
     ]
    }
   ],
   "source": [
    "a={'name':'ravi','age':29,'phone':1234567890}\n",
    "b={'city':'madison','address':'Ridgeland'}\n",
    "a.update(b)\n",
    "print(a)"
   ]
  },
  {
   "cell_type": "markdown",
   "metadata": {},
   "source": [
    "11.\tUse items () to iterate over all key-value pairs and print them. "
   ]
  },
  {
   "cell_type": "code",
   "execution_count": 26,
   "metadata": {},
   "outputs": [
    {
     "name": "stdout",
     "output_type": "stream",
     "text": [
      "name : ravi\n",
      "age : 29\n",
      "phone : 1234567890\n"
     ]
    }
   ],
   "source": [
    "a={'name':'ravi','age':29,'phone':1234567890}\n",
    "for key,value in a.items():\n",
    "    print(key,\":\",value)"
   ]
  },
  {
   "cell_type": "markdown",
   "metadata": {},
   "source": [
    "12.\tWrite a program to merge two dictionaries and remove duplicate keys. "
   ]
  },
  {
   "cell_type": "code",
   "execution_count": 28,
   "metadata": {},
   "outputs": [
    {
     "name": "stdout",
     "output_type": "stream",
     "text": [
      "{'name': 'ravi', 'age': 29, 'phone': 1234567890, 'address': 'city'}\n"
     ]
    }
   ],
   "source": [
    "dict1={'name':'ravi','age':29,'phone':1234567890}\n",
    "dict2={'name':'ravi','address':'city'}\n",
    "merge_dict=dict1 | dict2\n",
    "print(merge_dict)\n"
   ]
  },
  {
   "cell_type": "markdown",
   "metadata": {},
   "source": [
    "13.\tCreate a dictionary where the keys are numbers from 1 to 5 and the values are their squares. "
   ]
  },
  {
   "cell_type": "code",
   "execution_count": 29,
   "metadata": {},
   "outputs": [
    {
     "name": "stdout",
     "output_type": "stream",
     "text": [
      "dictionary of squares: {1: 1, 2: 4, 3: 9, 4: 16, 5: 25}\n"
     ]
    }
   ],
   "source": [
    "squares_dict={num:num**2 for num in range(1,6)}\n",
    "print('dictionary of squares:',squares_dict)"
   ]
  },
  {
   "cell_type": "markdown",
   "metadata": {},
   "source": [
    "14.\tWrite a function that inverts a dictionary, swapping keys and values. "
   ]
  },
  {
   "cell_type": "code",
   "execution_count": null,
   "metadata": {},
   "outputs": [],
   "source": []
  },
  {
   "cell_type": "markdown",
   "metadata": {},
   "source": [
    "15.\tCreate a nested dictionary to represent a federal credit union’s department, with each department containing employee names and their roles. "
   ]
  },
  {
   "cell_type": "code",
   "execution_count": null,
   "metadata": {},
   "outputs": [],
   "source": []
  }
 ],
 "metadata": {
  "kernelspec": {
   "display_name": "Python 3",
   "language": "python",
   "name": "python3"
  },
  "language_info": {
   "codemirror_mode": {
    "name": "ipython",
    "version": 3
   },
   "file_extension": ".py",
   "mimetype": "text/x-python",
   "name": "python",
   "nbconvert_exporter": "python",
   "pygments_lexer": "ipython3",
   "version": "3.13.1"
  }
 },
 "nbformat": 4,
 "nbformat_minor": 2
}
