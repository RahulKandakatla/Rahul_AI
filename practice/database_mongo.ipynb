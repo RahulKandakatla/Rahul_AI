{
 "cells": [
  {
   "cell_type": "code",
   "execution_count": null,
   "metadata": {},
   "outputs": [],
   "source": [
    "%pip install pymongo dnspython\n",
    "%pip install \"pymongo[srv]\"\n",
    "%pip install python-dotenv"
   ]
  },
  {
   "cell_type": "code",
   "execution_count": 2,
   "metadata": {},
   "outputs": [
    {
     "name": "stdout",
     "output_type": "stream",
     "text": [
      "Requirement already satisfied: python-dotenv in c:\\users\\krr76\\appdata\\local\\programs\\python\\python313\\lib\\site-packages (1.0.1)\n",
      "Note: you may need to restart the kernel to use updated packages.\n"
     ]
    }
   ],
   "source": [
    "%pip install python-dotenv"
   ]
  },
  {
   "cell_type": "code",
   "execution_count": null,
   "metadata": {},
   "outputs": [
    {
     "name": "stdout",
     "output_type": "stream",
     "text": [
      "Pinged your deployment. You successfully connected to MongoDB!\n"
     ]
    }
   ],
   "source": [
    "import pymongo\n",
    "from pymongo.mongo_client import MongoClient\n",
    "\n",
    "from pymongo.server_api import ServerApi\n",
    "\n",
    "import os\n",
    "from dotenv import load_dotenv\n",
    "# Load environment variables from .env file\n",
    "load_dotenv()\n",
    "\n",
    "uri = os.getenv(\"MONGO_DB_CONNECTION\")\n",
    "#print(uri)\n",
    "client = MongoClient(uri, server_api=ServerApi('1'))\n",
    "\n",
    "\n",
    "try:\n",
    "    client.admin.command('ping')\n",
    "    print(\"Pinged your deployment. You successfully connected to MongoDB!\")\n",
    "except Exception as e:\n",
    "    print(e)\n",
    "\n",
    "db = client.finbloom\n",
    "\n",
    "members_collection = db[\"members_Rahul\"]\n",
    "transactions_collection = db[\"transactions_Rahul\"]"
   ]
  },
  {
   "cell_type": "code",
   "execution_count": null,
   "metadata": {},
   "outputs": [],
   "source": [
    "member = {\n",
    "            \"fname\":\"gopikrishna\", \"lame\":\"kristshorta\", \"gender\":\"Male\"\n",
    "}\n",
    "result = members_collection.insert_one(member)\n",
    "print(result.inserted_id)\n",
    "\n",
    "transactions = {\n",
    "            \"amount\":\"10\", \"member_id\":f\"{result.inserted_id}\"\n",
    "}\n",
    "\n",
    "transactions_2 = [{\n",
    "            \"amount\":20, \"member_id\": result.inserted_id\n",
    "}]\n",
    "\n",
    "\n",
    "#result = transactions_collection.insert_one(transactions) #1 True\n",
    "\n",
    "#result = transactions_collection.insert_one(transactions_2) #2 Runtime Exception\n",
    "\n",
    "result = transactions_collection.insert_many(transactions_2) #3 True\n",
    "\n",
    "#result = transactions_collection.insert_many(transactions) #4 Runtime Exception\n",
    "\n",
    "print(result.inserted_ids)"
   ]
  }
 ],
 "metadata": {
  "kernelspec": {
   "display_name": "Python 3",
   "language": "python",
   "name": "python3"
  },
  "language_info": {
   "codemirror_mode": {
    "name": "ipython",
    "version": 3
   },
   "file_extension": ".py",
   "mimetype": "text/x-python",
   "name": "python",
   "nbconvert_exporter": "python",
   "pygments_lexer": "ipython3",
   "version": "3.13.1"
  }
 },
 "nbformat": 4,
 "nbformat_minor": 2
}
